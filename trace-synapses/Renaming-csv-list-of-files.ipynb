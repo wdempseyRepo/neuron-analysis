{
 "cells": [
  {
   "cell_type": "markdown",
   "metadata": {},
   "source": [
    "# Rename Files In an Incremented List\n",
    "For filenames that are in a list format but need to have some consistent addition to the filename, this program will suffice."
   ]
  },
  {
   "cell_type": "code",
   "execution_count": 4,
   "metadata": {},
   "outputs": [],
   "source": [
    "import numpy as np\n",
    "import pandas as pd\n",
    "\n",
    "# For finding multiple files with the same extension in a given path\n",
    "import glob\n",
    "from pathlib import Path"
   ]
  },
  {
   "cell_type": "code",
   "execution_count": 15,
   "metadata": {},
   "outputs": [],
   "source": [
    "# User determines what string to add to the list (e.g., 'Fish-01_')\n",
    "addedText = 'Fish-07_'"
   ]
  },
  {
   "cell_type": "code",
   "execution_count": 16,
   "metadata": {},
   "outputs": [],
   "source": [
    "path = '/Users/dtsloaner/Documents/GitHub/postdoc-scripts/gcamp'\n",
    "outputDirectory = \"/output/\"\n",
    "all_files_to_load = glob.glob(path + \"/*.csv\")\n",
    "\n",
    "for element in all_files_to_load:\n",
    "    dummy = pd.read_csv(element)\n",
    "    dummy.to_csv(path+outputDirectory+addedText+element.split('/')[-1],index=False)"
   ]
  }
 ],
 "metadata": {
  "kernelspec": {
   "display_name": "Python 3",
   "language": "python",
   "name": "python3"
  },
  "language_info": {
   "codemirror_mode": {
    "name": "ipython",
    "version": 3
   },
   "file_extension": ".py",
   "mimetype": "text/x-python",
   "name": "python",
   "nbconvert_exporter": "python",
   "pygments_lexer": "ipython3",
   "version": "3.7.6"
  }
 },
 "nbformat": 4,
 "nbformat_minor": 4
}
